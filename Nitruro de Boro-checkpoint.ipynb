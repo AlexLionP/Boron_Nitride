{
 "cells": [
  {
   "cell_type": "markdown",
   "metadata": {},
   "source": [
    "# Nitruro de Boro "
   ]
  },
  {
   "cell_type": "markdown",
   "metadata": {},
   "source": [
    "### Se presenta dicho material en su forma hexagonal simple en dos y tres dimensiones"
   ]
  },
  {
   "cell_type": "markdown",
   "metadata": {},
   "source": [
    "primero se inicializan las librerias que se usan en el desarrollo del cristal"
   ]
  },
  {
   "cell_type": "code",
   "execution_count": 3,
   "metadata": {},
   "outputs": [],
   "source": [
    "import numpy as np \n",
    "import math as mt\n",
    "import itertools\n",
    "import matplotlib.pyplot as plt\n",
    "from mpl_toolkits.mplot3d import Axes3D\n",
    "from scipy import linalg\n",
    "import  scipy.spatial as sc\n",
    "from scipy.spatial import Voronoi, voronoi_plot_2d"
   ]
  },
  {
   "cell_type": "markdown",
   "metadata": {},
   "source": [
    "####  Vectores de traslación de la red hexágonal  simple:"
   ]
  },
  {
   "cell_type": "markdown",
   "metadata": {},
   "source": [
    "$t_{1}=a(\\frac{1}{2},\\frac{\\sqrt{3}}{2},0)$ \n",
    "\n",
    "\n",
    "\n",
    "$t_{2}=a(\\frac{-1}{2},\\frac{\\sqrt{3}}{2},0)$ \n",
    "\n",
    "\n",
    "\n",
    "$t_{3}=c(0,0,1)$\n",
    "\n",
    "\n",
    "Donde a y c son los parámetros de red  $a=2.5043A$,  $c=6.6562A$ para el caso de nitruro de boro:\n",
    "https://www.researchgate.net/publication/277197056_Peliculas_delgadas_de_nitruro_de_boro"
   ]
  },
  {
   "cell_type": "markdown",
   "metadata": {},
   "source": [
    "#### Los vectores de la base atómica"
   ]
  },
  {
   "cell_type": "markdown",
   "metadata": {},
   "source": [
    "$d_{1}=(0,0,0)$\n",
    "\n",
    "\n",
    "$d_{2}=a(0,\\frac{\\sqrt{3}}{3},0)$ \n",
    "\n",
    "\n",
    "$d_{3}=c(0,0,\\frac{1}{2})$\n",
    "\n",
    "\n",
    "$d_{4}=(0,\\frac{\\sqrt{3}}{3}a,\\frac{c}{2})$\n",
    "\n",
    "\n",
    "En este caso se toman cuatro átomos en la base atómica puesto que entre capa y capa se van alternando los átomos de nitrógeno y boro.\n"
   ]
  },
  {
   "cell_type": "code",
   "execution_count": 4,
   "metadata": {},
   "outputs": [],
   "source": [
    "a=2.5043\n",
    "c=6.6562                                   #parámetros de red\n",
    "t1 = a*np.array([0.5,np.sqrt(3)/2,0])    \n",
    "t2 = a*np.array([-0.5,np.sqrt(3)/2,0 ])\n",
    "t3 = c*np.array([0,0,1])                  #vectores de traslación\n",
    "d1 = np.array([0,0,0])                    \n",
    "d2 =a*np.array([0,np.sqrt(3)/3,0])\n",
    "d3 =np.array([0,0,c/2])\n",
    "d4=np.array([0,a*(np.sqrt(3)/3),c/2])       #vectores de la base atómica"
   ]
  },
  {
   "cell_type": "markdown",
   "metadata": {},
   "source": [
    "Listado con los elementos usados, boro y nitrógeno:"
   ]
  },
  {
   "cell_type": "code",
   "execution_count": 5,
   "metadata": {},
   "outputs": [],
   "source": [
    "elementos=['N','B']  "
   ]
  },
  {
   "cell_type": "markdown",
   "metadata": {},
   "source": [
    "## Clase de la red\n",
    "\n",
    "Contiene información acerca de los vectores de traslación. ángulos, parámetros de red, volumen de la celda unitaria y los dibuja en el espacio tridimensional. "
   ]
  },
  {
   "cell_type": "code",
   "execution_count": 6,
   "metadata": {},
   "outputs": [],
   "source": [
    "class RedNB(object):\n",
    "    \"\"\"Clase que representa una red hexágonal de nitruro de boro.\n",
    "      \"\"\"\n",
    "    \n",
    "    def __init__(self, t1, t2, t3):\n",
    "      \n",
    "        m = np.array([t1,t2,t3], dtype=np.float64).reshape((3, 3))  #genera una matriz con los vectores de traslación\n",
    "        lengths = np.sqrt(np.sum(m ** 2, axis=1)) #multiplica la matriz m y genera la suma de sus entradas\n",
    "        angles = np.zeros(3)   #vector de 3 ceros \n",
    "        for i in range(3):\n",
    "            j = (i + 1) % 3    #toma los índices con range(3)\n",
    "            k = (i + 2) % 3\n",
    "            angles[i] = np.dot(m[j], m[k]) / (lengths[j] * lengths[k])  #saca los ángulos entre los vectores.\n",
    "            \n",
    "        # atributos de la clase.\n",
    "        self._angles = np.arccos(angles) * 180. / np.pi\n",
    "        self._lengths = lengths\n",
    "        self._matrix = m\n",
    "        self._t1 = t1\n",
    "        self._t2 = t2\n",
    "        self._t3 = t3\n",
    "        \n",
    "    # propiedades \n",
    "    \n",
    "    @property\n",
    "    def angles(self):\n",
    "        \"\"\"\n",
    "        Ángulos (alpha, beta, gamma) de la red.\n",
    "        \"\"\"\n",
    "        return tuple(self._angles)\n",
    "\n",
    "    @property\n",
    "    def a(self):\n",
    "        \"\"\"\n",
    "        Parámetro de red a\n",
    "        \"\"\"\n",
    "        return self._lengths[0]\n",
    "\n",
    "    @property\n",
    "    def b(self):\n",
    "        \"\"\"\n",
    "        Parámetro de red a\n",
    "        \"\"\"\n",
    "        return self._lengths[1]\n",
    "\n",
    "    @property\n",
    "    def c(self):\n",
    "        \"\"\"\n",
    "        Parámetro de red c\n",
    "        \"\"\"\n",
    "        return self._lengths[2]\n",
    "\n",
    "    @property\n",
    "    def abc(self):\n",
    "        \"\"\"\n",
    "        Longitudes de los vectores de red, i.e. (a, b, c)\n",
    "        \"\"\"\n",
    "        return tuple(self._lengths)\n",
    "    \n",
    "    @property\n",
    "    def vector1(self):\n",
    "        \"\"\"\n",
    "        Vector de traslación 1\n",
    "        \"\"\"\n",
    "        return self._t1\n",
    "\n",
    "    @property\n",
    "    def vector2(self):\n",
    "        \"\"\"\n",
    "        vector de traslacion 2\n",
    "        \"\"\"\n",
    "        return self._t2\n",
    "\n",
    "    @property\n",
    "    def vector3(self):\n",
    "        \"\"\"\n",
    "        vector de traslación 3\n",
    "        \"\"\"\n",
    "        return self._t3\n",
    "    \n",
    "    @property\n",
    "    def matrix(self):\n",
    "        \"\"\"\n",
    "      matriz de vector de traslación\n",
    "        \"\"\"\n",
    "        return self._matrix\n",
    "    \n",
    "    @property\n",
    "    def volumen(self):\n",
    "        \"\"\"\n",
    "        Volumen de la celda unitaria.\n",
    "        \"\"\"\n",
    "        m = self._matrix\n",
    "        return abs(np.dot(np.cross(m[0], m[1]), m[2]))\n",
    "        \n",
    "    # graficamos los vectores.\n",
    "    \n",
    "    def plot (self,ax):\n",
    "        \"\"\"\n",
    "        Incluye los vectores de red en el gráfico ax\n",
    "        \n",
    "        Argumentos:\n",
    "            ax -> un eje con proyección 3d\n",
    "        \"\"\"\n",
    "        Axes3D.plot3D(ax,[0,self._t1[0]],[0,self._t1[1]],[0,self._t1[2]],'k')\n",
    "        Axes3D.plot3D(ax,[0,self._t2[0]],[0,self._t2[1]],[0,self._t2[2]],'k')\n",
    "        Axes3D.plot3D(ax,[0,self._t3[0]],[0,self._t3[1]],[0,self._t3[2]],'k')\n",
    "        Axes3D.grid(ax,False)\n",
    "        \n"
   ]
  },
  {
   "cell_type": "markdown",
   "metadata": {},
   "source": [
    "#### Ejemplo de como funciona la clase de la red"
   ]
  },
  {
   "cell_type": "code",
   "execution_count": 7,
   "metadata": {},
   "outputs": [],
   "source": [
    "r1 = RedNB(t1,t2,t3)   #para los vectores de la red hexágonal pero pueden usarse para cualquiera"
   ]
  },
  {
   "cell_type": "code",
   "execution_count": 8,
   "metadata": {},
   "outputs": [
    {
     "data": {
      "text/plain": [
       "(90.0, 90.0, 60.00000000000002)"
      ]
     },
     "execution_count": 8,
     "metadata": {},
     "output_type": "execute_result"
    }
   ],
   "source": [
    "r1.angles #ángulos entre vectores"
   ]
  },
  {
   "cell_type": "code",
   "execution_count": 9,
   "metadata": {},
   "outputs": [
    {
     "data": {
      "text/plain": [
       "(2.5043, 2.5043, 6.6562)"
      ]
     },
     "execution_count": 9,
     "metadata": {},
     "output_type": "execute_result"
    }
   ],
   "source": [
    "r1.abc    #parámetros de red"
   ]
  },
  {
   "cell_type": "code",
   "execution_count": 10,
   "metadata": {},
   "outputs": [
    {
     "data": {
      "text/plain": [
       "36.15178133694381"
      ]
     },
     "execution_count": 10,
     "metadata": {},
     "output_type": "execute_result"
    }
   ],
   "source": [
    "r1.volumen #volumen de la celda unitaria  en A^3"
   ]
  },
  {
   "cell_type": "code",
   "execution_count": 11,
   "metadata": {},
   "outputs": [
    {
     "data": {
      "text/plain": [
       "array([[ 1.25215   ,  2.16878742,  0.        ],\n",
       "       [-1.25215   ,  2.16878742,  0.        ],\n",
       "       [ 0.        ,  0.        ,  6.6562    ]])"
      ]
     },
     "execution_count": 11,
     "metadata": {},
     "output_type": "execute_result"
    }
   ],
   "source": [
    "r1.matrix #matriz de vectores de traslación"
   ]
  },
  {
   "cell_type": "code",
   "execution_count": 12,
   "metadata": {},
   "outputs": [
    {
     "data": {
      "image/png": "[encoded data removed]",
      "text/plain": [
       "<Figure size 720x720 with 1 Axes>"
      ]
     },
     "metadata": {
      "needs_background": "light"
     },
     "output_type": "display_data"
    }
   ],
   "source": [
    "fig = plt.figure(figsize=(10,10))    #gráfica de los vectores de traslación\n",
    "ax = fig.add_subplot(111, projection='3d')\n",
    "r1.plot(ax)\n",
    "plt.show()"
   ]
  },
  {
   "cell_type": "markdown",
   "metadata": {},
   "source": [
    "## Clase de la base atómica  3D"
   ]
  },
  {
   "cell_type": "code",
   "execution_count": 13,
   "metadata": {},
   "outputs": [],
   "source": [
    "class BaseNB(object):\n",
    "\n",
    "    def __init__(self,d1,d2,d3,d4,elementos):   #pide de entrada 4 vectores de posición\n",
    "        \n",
    "            n = np.array([d1,d2,d3,d4], dtype=np.float64).reshape((4, 3))    #las unidades son en Angstroms\n",
    "            dist = np.sqrt(np.sum(n ** 2, axis=1))\n",
    "                \n",
    "                \n",
    "            self._dist = dist\n",
    "            self._matriz = n\n",
    "            self._d1 = d1\n",
    "            self._d2 = d2\n",
    "            self._d3 = d3\n",
    "            self._d4 = d4\n",
    "            self._elementos = elementos \n",
    "          \n",
    "    \n",
    "    @property\n",
    "    def disprimeros(self):\n",
    "        \"\"\"distancia a primeros vecinos en el plano\"\"\"\n",
    "        return self._dist[1]\n",
    "    \n",
    "    @property\n",
    "    def displanos(self):\n",
    "        \"\"\"distancia entre planos\"\"\"\n",
    "        return self._dist[2]\n",
    "   \n",
    "    @property\n",
    "    def boro1(self):\n",
    "        \"\"\"elemento y posición\"\"\"\n",
    "        print(\"El primer elemento de Boro, está ubicado en:\")\n",
    "        return self._d1\n",
    "        \n",
    "    @property\n",
    "    def boro2(self):\n",
    "        \"\"\"elemento y posición\"\"\"\n",
    "        print(\"El segundo elemento de Boro, está ubicado en:\")\n",
    "        return self._d4\n",
    "    @property\n",
    "    def nitrogeno1(self):\n",
    "        \"\"\"elemento y posición\"\"\"\n",
    "        print(\"El primer elemento de Nitrógeno,está ubicado en:\")\n",
    "        return  self._d2\n",
    "        return  self._d3\n",
    "     \n",
    "    @property\n",
    "    def nitrogeno2(self):\n",
    "        \"\"\"elemento y posición\"\"\"\n",
    "        print(\"El segundo elemento de Nitrógeno, está ubicado en:\")\n",
    "        return  self._d3   \n",
    "    \n",
    "    @property\n",
    "    def nitrogenosymbol(self):\n",
    "        \"\"\"Simbolo de elemento\"\"\"\n",
    "        return  self._elementos[0] \n",
    "    \n",
    "    @property\n",
    "    def borosymbol(self):\n",
    "        \"\"\"Simbolo de elemento\"\"\"\n",
    "        return  self._elementos[1] \n",
    "    \n",
    "    def plot (self,am):\n",
    "        \"\"\"\n",
    "        Incluye los vectores de red en el gráfico am\n",
    "        \n",
    "        Argumentos:\n",
    "            am -> un eje con proyección 2d\n",
    "        \"\"\"\n",
    "        Axes3D.scatter(am,[self._d1[0]],[self._d1[1]],[self._d1[2]],c='b',marker='o', s=200,depthshade=True)\n",
    "        Axes3D.scatter(am,[self._d2[0]],[self._d2[1]],[self._d2[2]],c='r',marker='o', s=200,depthshade=True)\n",
    "        Axes3D.scatter(am,[self._d3[0]],[self._d3[1]],[self._d3[2]],c='r',marker='o', s=200,depthshade=True)\n",
    "        Axes3D.scatter(am,[self._d4[0]],[self._d4[1]],[self._d4[2]],c='b',marker='o', s=200,depthshade=True)\n",
    "        Axes3D.grid(am,False)\n"
   ]
  },
  {
   "cell_type": "code",
   "execution_count": 14,
   "metadata": {},
   "outputs": [],
   "source": [
    "r2=BaseNB(d1,d2,d3,d4,elementos)"
   ]
  },
  {
   "cell_type": "code",
   "execution_count": 15,
   "metadata": {},
   "outputs": [
    {
     "data": {
      "text/plain": [
       "'N'"
      ]
     },
     "execution_count": 15,
     "metadata": {},
     "output_type": "execute_result"
    }
   ],
   "source": [
    "r2.nitrogenosymbol  #el origen del sistema "
   ]
  },
  {
   "cell_type": "code",
   "execution_count": 16,
   "metadata": {},
   "outputs": [
    {
     "data": {
      "image/png": "[encoded data removed]",
      "text/plain": [
       "<Figure size 720x720 with 1 Axes>"
      ]
     },
     "metadata": {
      "needs_background": "light"
     },
     "output_type": "display_data"
    }
   ],
   "source": [
    "#gráfica de las posiciones de los átomos \n",
    "fig = plt.figure(figsize=(10,10))\n",
    "am = fig.add_subplot(111, projection='3d')\n",
    "r2.plot(am)\n",
    "plt.show()"
   ]
  },
  {
   "cell_type": "markdown",
   "metadata": {},
   "source": [
    "## Clase del cristal "
   ]
  },
  {
   "cell_type": "markdown",
   "metadata": {},
   "source": [
    "Ahora  se define la clase del cristal que aplicará las propiedades de traslación en donde cualquier elemento del cristal  (M) está descrito por: \n",
    "$M=d_{i}+a_{1}t_{1}+a_{2}t_{2}+a_{3}t_{3}$"
   ]
  },
  {
   "cell_type": "code",
   "execution_count": 17,
   "metadata": {},
   "outputs": [],
   "source": [
    "class CrystalNB(object):\n",
    "\n",
    "    def __init__(self, t1, t2 ,t3,d1,d2, d3,d4,n):\n",
    "        \n",
    "        #Para vizualizar el cristal, crear superceldas y aplicar las operaciones de traslación\n",
    "        \n",
    "        #se generan los posiciones de Boro para un plano para superceldas de nxn\n",
    "        positionsB1=[]\n",
    "        for i in range(n):\n",
    "            for k in range(n):\n",
    "                for j in range(n):\n",
    "                    positionsB1 += [(d1)+k*(t1)+i*(t2)+j*(t3)]\n",
    "        #se generan las posiciones de Boro para el plano subsiguiente para superceldas         \n",
    "        positionsB2=[]\n",
    "        for i in range(n):\n",
    "            for k in range(n):\n",
    "                for j in range(n):\n",
    "                    positionsB2 += [(d4)+k*(t1)+i*(t2)+j*(t3)]   \n",
    "        #se generan las posiciones de Nitrógeno para el plano donde se encuentran los primeros elementos de Boro.        \n",
    "        positionsN1=[]\n",
    "        for i in range(n):\n",
    "            for k in range(n):\n",
    "                for j in range(n):\n",
    "                    positionsN1 += [(d2)+k*(t1)+i*(t2)+j*(t3)]\n",
    "        #se generan las posiciones de Nitrógeno para el plano subsiguiente.\n",
    "        positionsN2=[]\n",
    "        for i in range(n):\n",
    "            for k in range(n):\n",
    "                for j in range(n):\n",
    "                     positionsN2 += [(d3)+k*(t1)+i*(t2)+j*(t3)]\n",
    "                        \n",
    "        #Se concatenan las posicones anteriores            \n",
    "        K2 = np.concatenate((positionsN1,positionsN2), axis=0)\n",
    "        K1 = np.concatenate((positionsB1,positionsB2), axis=0)               \n",
    "        K  = np.concatenate((positionsN1,positionsN2,positionsB1,positionsB2), axis=0) \n",
    "        z  =  len(K)\n",
    "            \n",
    "        self._positionsB1 = positionsB1\n",
    "        self._positionsB2 = positionsB2\n",
    "        self._positionsN1 = positionsN1\n",
    "        self._positionsN2 = positionsN2\n",
    "        self._K1 = K1\n",
    "        self._K2 = K2\n",
    "        self._K  = K\n",
    "        self._z  = z\n",
    "        \n",
    "        #Aqui vamos a generar los vectores de la red reciproca\n",
    "        \n",
    "        Omega=(np.dot(t1,np.cross(t2,t3))) #Volumen de la celda primitiva\n",
    "        #Vectores de la red reciproca\n",
    "        g1=np.array([2*np.pi*(np.cross(t2,t3))/Omega]) \n",
    "        g2=np.array([2*np.pi*(np.cross(t3,t1))/Omega])\n",
    "        g3=np.array([2*np.pi*(np.cross(t1,t2))/Omega])\n",
    "    \n",
    "        #Definimos nuestra red recíproca como el arreglo de los 3 vectores anteriores \n",
    "    \n",
    "        Rrecip=[g1,g2,g3]\n",
    "        self.Rrecip=Rrecip\n",
    "        \n",
    "        hCN =[d1,d1+t1,d1+t2,d1+t3]\n",
    "        hCB =[d2,d2+t1,d2+t2,d2+t3]\n",
    "        hCB2 =[d3,d3+t1,d3+t2,d3+t3]\n",
    "        hCN2 =[d4,d4+t1,d4+t2,d4+t3]\n",
    "        #Necesitamos ahora definir definir los vectores hkl, para ello creamos una lista donde pondremos los valores de cada plano\n",
    "     \n",
    "        hkl=[]\n",
    "        self.hkl=hkl\n",
    "        \n",
    "        #SG_N y SG_B nos serviran para definir el factor de estructura para cada atomo y luego sumarlos para obtener el del cristal\n",
    "        SG_N=np.zeros((4,4,4),np.complex64)\n",
    "        self.SG_N=SG_N\n",
    "        SG_B=np.zeros((4,4,4),np.complex64)\n",
    "        self.SG_B=SG_B\n",
    "        SG_N2=np.zeros((4,4,4),np.complex64)\n",
    "        self.SG_N2=SG_N2\n",
    "        SG_B2=np.zeros((4,4,4),np.complex64)\n",
    "        self.SG_B2=SG_B2\n",
    "      \n",
    "        G=np.zeros((4,4,4,3))\n",
    "        d_hkl=np.zeros((4,4,4))\n",
    "        self.d_hkl=d_hkl\n",
    "        \n",
    "        Z=np.array([7,5])\n",
    "        \n",
    "        for l in range(4):\n",
    "            for k in range(4):\n",
    "                for h in range(4):\n",
    "                    G[h][k][l]=(h*g1+k*g2+l*g3)\n",
    "                    if h==0 and k==0 and l==0:\n",
    "                        d_hkl[h][k][l]=0\n",
    "                    else:    \n",
    "                        d_hkl[h][k][l]=(2*np.pi)/(mt.sqrt(np.dot(G[h][k][l],G[h][k][l])))\n",
    "                        \n",
    "        for l in range(4):\n",
    "            for k in range(4):\n",
    "                for h in range(4):\n",
    "                    G[h][k][l]=(h*g1+k*g2+l*g3)\n",
    "                    for i in range(len(hCN)):\n",
    "                        SG_N[h][k][l]=((SG_N[h][k][l]+np.exp(-(np.dot(hCN[i],G[h][k][l])*1j))))\n",
    "                           \n",
    "        for l in range(4):\n",
    "            for k in range(4):\n",
    "                for h in range(4):\n",
    "                    G[h][k][l]=(h*g1+k*g2+l*g3)\n",
    "                    for i in range(len(hCB)):  \n",
    "                        SG_B[h][k][l]=((SG_B[h][k][l]+np.exp(-(np.dot(hCB[i],G[h][k][l])*1j))))\n",
    "    \n",
    "        for l in range(4):\n",
    "            for k in range(4):\n",
    "                for h in range(4):\n",
    "                    G[h][k][l]=(h*g1+k*g2+l*g3)\n",
    "                    for i in range(len(hCN2)):\n",
    "                        SG_N2[h][k][l]=((SG_N2[h][k][l]+np.exp(-(np.dot(hCN2[i],G[h][k][l])*1j))))\n",
    "                           \n",
    "        for l in range(4):\n",
    "            for k in range(4):\n",
    "                for h in range(4):\n",
    "                    G[h][k][l]=(h*g1+k*g2+l*g3)\n",
    "                    for i in range(len(hCB2)):  \n",
    "                        SG_B2[h][k][l]=((SG_B2[h][k][l]+np.exp(-(np.dot(hCB2[i],G[h][k][l])*1j))))\n",
    "                \n",
    "        \n",
    "        #S=Z[0]*SG_N+Z[1]*SG_B\n",
    "        S=Z[0]*SG_N+Z[1]*SG_B+Z[0]*SG_N2+Z[1]*SG_B2 \n",
    "        \n",
    "        for l in range(4):\n",
    "            for k in range(4):\n",
    "                for h in range(4):\n",
    "                    if S[h][k][l].real>0:\n",
    "                        hkl.append([h,k,l])\n",
    "                    if S[h][k][l].real<0:\n",
    "                        hkl.append([h,k,l])  \n",
    "                        \n",
    "        self.S=S\n",
    "        I=S.conjugate()*S\n",
    "        self.I=I\n",
    "        \n",
    "        lambdaX=1.54\n",
    "        theta0=[]\n",
    "        self._theta0=theta0\n",
    "        theta=[]\n",
    "        self._theta=theta\n",
    "        intensidad=[]\n",
    "        self._intensidad=intensidad\n",
    "        \n",
    "        for i in range(1,len(hkl)):\n",
    "            theta0.append((lambdaX/(2*d_hkl[hkl[i][0]][hkl[i][1]][hkl[i][2]])))\n",
    "            intensidad.append(I[hkl[i][0]][hkl[i][1]][hkl[i][2]].real)\n",
    "            \n",
    "        self.longt=len(self._theta0) \n",
    "        \n",
    "        for i in range(self.longt):\n",
    "            if self._theta0[i]>1:\n",
    "                self._theta0[i]=1\n",
    "            theta.append(mt.asin(self._theta0[i])*180/mt.pi)\n",
    "    @property\n",
    "    def theta(self):\n",
    "        \"\"\"matriz de la base\"\"\"\n",
    "        return self._theta\n",
    "    @property\n",
    "    def theta0(self):\n",
    "        \"\"\"matriz de la base\"\"\"\n",
    "        return self._theta0 \n",
    "    @property\n",
    "    def intensidad(self):\n",
    "        \"\"\"matriz de la base\"\"\"\n",
    "        return self._intensidad\n",
    "    \n",
    "        \n",
    "    @property\n",
    "    def posB(self):\n",
    "        \"\"\"posición de átomos de boro\"\"\"\n",
    "        return self._K1\n",
    "    \n",
    "    @property\n",
    "    def posN(self):\n",
    "        \"\"\"posición de átomos de Nitrógeno\"\"\"\n",
    "        return self._K2\n",
    "     \n",
    "    @property\n",
    "    def posatoms(self):\n",
    "        \"\"\"arreglo de posición de todos los átomos\"\"\"\n",
    "        return self._K   \n",
    "  \n",
    "    @property\n",
    "    def numofatoms(self):\n",
    "        \"\"\"número de átomos\"\"\"\n",
    "        return self._z\n",
    "    \n",
    "    @property\n",
    "    def numofatomspelement(self):\n",
    "        \"\"\"número de átomos\"\"\"\n",
    "        return self._z/2\n",
    "    \n",
    "    \n",
    "    def plot (self,acris3d):\n",
    "        \"\"\"\n",
    "        supercelda\n",
    "        \n",
    "        Argumentos:\n",
    "            ax -> un eje con proyección 2d\n",
    "        \"\"\"\n",
    "        acris3d.scatter(self._K1[:,0],self._K1[:,1],self._K1[:,2], c='b',s=200 ,marker='o')\n",
    "        acris3d.scatter(self._K2[:,0],self._K2[:,1],self._K2[:,2], c='r',s=200 ,marker='o')\n",
    "        \n",
    "    def Xray(self):\n",
    "        fig=plt.figure(figsize=(10,10))\n",
    "        plt.bar(self.theta,self.intensidad,width=0.4)\n",
    "        plt.xlabel(\"2 theta (Grados)\")\n",
    "        plt.ylabel(\"Intensidad\")\n",
    "        plt.xlim(0,85)\n",
    "        plt.xticks(np.arange(0, 85, 5.0))\n",
    "        plt.grid(True)\n",
    "        plt.show()   \n",
    "    \n",
    "    def recip(self):\n",
    "        return self.recip()\n",
    "    \n",
    "    def G(self):\n",
    "        return G  "
   ]
  },
  {
   "cell_type": "code",
   "execution_count": 18,
   "metadata": {},
   "outputs": [],
   "source": [
    "r3=CrystalNB(t1,t2,t3,d1,d2,d3,d4,1)"
   ]
  },
  {
   "cell_type": "code",
   "execution_count": 19,
   "metadata": {},
   "outputs": [
    {
     "data": {
      "text/plain": [
       "[20.79571829323162,\n",
       " 45.24095309123543,\n",
       " 90.0,\n",
       " 20.79571829323162,\n",
       " 20.79571829323162,\n",
       " 37.94772776960607,\n",
       " 69.94099143880999,\n",
       " 45.24095309123543,\n",
       " 37.94772776960607,\n",
       " 45.24095309123543,\n",
       " 69.94099143880999,\n",
       " 90.0,\n",
       " 69.94099143880999,\n",
       " 69.94099143880999,\n",
       " 90.0,\n",
       " 21.925955497733842,\n",
       " 46.00790388344558,\n",
       " 21.925955497733842,\n",
       " 21.925955497733842,\n",
       " 71.16217194032328,\n",
       " 46.00790388344558,\n",
       " 46.00790388344558,\n",
       " 71.16217194032328,\n",
       " 71.16217194032328,\n",
       " 71.16217194032328,\n",
       " 13.377344688182013,\n",
       " 25.072779481252184,\n",
       " 48.31532834763729,\n",
       " 90.0,\n",
       " 25.072779481252184,\n",
       " 25.072779481252184,\n",
       " 41.07344045509776,\n",
       " 75.33288290633863,\n",
       " 48.31532834763729,\n",
       " 41.07344045509776,\n",
       " 48.31532834763729,\n",
       " 75.33288290633863,\n",
       " 90.0,\n",
       " 75.33288290633863,\n",
       " 75.33288290633863,\n",
       " 90.0,\n",
       " 29.767330057815794,\n",
       " 52.217781210264775,\n",
       " 29.767330057815794,\n",
       " 29.767330057815794,\n",
       " 90.0,\n",
       " 52.217781210264775,\n",
       " 52.217781210264775,\n",
       " 90.0,\n",
       " 90.0,\n",
       " 90.0]"
      ]
     },
     "execution_count": 19,
     "metadata": {},
     "output_type": "execute_result"
    }
   ],
   "source": [
    "r3.theta"
   ]
  },
  {
   "cell_type": "code",
   "execution_count": 20,
   "metadata": {},
   "outputs": [
    {
     "data": {
      "text/plain": [
       "[2304.0,\n",
       " 2304.0,\n",
       " 9216.0,\n",
       " 2304.0,\n",
       " 2304.0,\n",
       " 9216.0,\n",
       " 2304.0,\n",
       " 2304.0,\n",
       " 9216.0,\n",
       " 2304.0,\n",
       " 2304.0,\n",
       " 9216.0,\n",
       " 2304.0,\n",
       " 2304.0,\n",
       " 9216.0,\n",
       " 192.0,\n",
       " 192.0,\n",
       " 192.0,\n",
       " 192.0,\n",
       " 192.0,\n",
       " 192.0,\n",
       " 192.0,\n",
       " 192.0,\n",
       " 192.0,\n",
       " 192.0,\n",
       " 9216.0,\n",
       " 2304.0,\n",
       " 2304.0,\n",
       " 9216.0,\n",
       " 2304.0,\n",
       " 2304.0,\n",
       " 9216.0,\n",
       " 2304.0,\n",
       " 2304.0,\n",
       " 9216.0,\n",
       " 2304.0,\n",
       " 2304.0,\n",
       " 9216.0,\n",
       " 2304.0,\n",
       " 2304.0,\n",
       " 9216.0,\n",
       " 192.0,\n",
       " 192.0,\n",
       " 192.0,\n",
       " 192.0,\n",
       " 192.0,\n",
       " 192.0,\n",
       " 192.0,\n",
       " 192.0,\n",
       " 192.0,\n",
       " 192.0]"
      ]
     },
     "execution_count": 20,
     "metadata": {},
     "output_type": "execute_result"
    }
   ],
   "source": [
    "r3.intensidad"
   ]
  },
  {
   "cell_type": "code",
   "execution_count": 21,
   "metadata": {},
   "outputs": [
    {
     "data": {
      "image/png": "[encoded data removed]",
      "text/plain": [
       "<Figure size 720x720 with 1 Axes>"
      ]
     },
     "metadata": {
      "needs_background": "light"
     },
     "output_type": "display_data"
    }
   ],
   "source": [
    "r3.Xray()"
   ]
  },
  {
   "cell_type": "code",
   "execution_count": 42,
   "metadata": {},
   "outputs": [
    {
     "data": {
      "text/plain": [
       "array([[0.        , 1.44585828, 0.        ],\n",
       "       [0.        , 0.        , 3.3281    ]])"
      ]
     },
     "execution_count": 42,
     "metadata": {},
     "output_type": "execute_result"
    }
   ],
   "source": [
    "r3.posN"
   ]
  },
  {
   "cell_type": "code",
   "execution_count": 25,
   "metadata": {},
   "outputs": [
    {
     "data": {
      "image/png": "[encoded data removed]",
      "text/plain": [
       "<Figure size 720x720 with 1 Axes>"
      ]
     },
     "metadata": {
      "needs_background": "light"
     },
     "output_type": "display_data"
    }
   ],
   "source": [
    "fig = plt.figure(figsize=(10,10))                   \n",
    "acris3d = fig.add_subplot(111, projection='3d')\n",
    "r3.plot(acris3d)\n",
    "plt.show()"
   ]
  },
  {
   "cell_type": "markdown",
   "metadata": {},
   "source": [
    " #### Se verifican las simetrías del cristal"
   ]
  },
  {
   "cell_type": "markdown",
   "metadata": {},
   "source": [
    "Se define el tensor métrico de la red G y se verifican las simetrías escritas como operadores A.\n",
    "\n",
    "\n",
    "Para cualquier simetría que satisfaga el cristal se debe cumplir la siguiente condición:\n",
    "\n",
    "\n",
    "$G=A^{t}GA$  donde $A^{t}$ es la matriz transpuesta\n"
   ]
  },
  {
   "cell_type": "code",
   "execution_count": 26,
   "metadata": {},
   "outputs": [],
   "source": [
    "class Simetrias(object):\n",
    "\n",
    "    def __init__(self, t1, t2 ,t3):\n",
    "        \n",
    "        \n",
    "        A=[]\n",
    "        B=[]\n",
    "        C=[]\n",
    "        m = np.array([t1,t2,t3], dtype=np.float64).reshape((3, 3))    #se crea la matriz del tensor métrico con los vectores de la red\n",
    "        for i in range(3):\n",
    "                A += [np.dot(t1,m[i])]\n",
    "           \n",
    "        for j in range(3):\n",
    "                B += [np.dot(t2,m[j])]            \n",
    "             \n",
    "        for k in range(3):\n",
    "                C += [np.dot(t3,m[k])]\n",
    "               \n",
    "        G = np.array([A,B,C], dtype=np.float64).reshape((3, 3))\n",
    "        #Creación de las matrices de reflexión \n",
    "        YZ =  np.matrix([[-1,0,0],[0,1,0],[0,0,1]])\n",
    "        XZ =  np.matrix([[1,0,0],[0,-1,0],[0,0,1]])\n",
    "        XY =  np.matrix([[1,0,0],[0,1,0],[0,0,-1]])\n",
    "        diag = np.matrix([[1,0,0],[0,1,0],[0,0,1]])\n",
    "        #inversión \n",
    "        inv = np.matrix([[-1,0,0],[0,-1,0],[0,0,-1]])\n",
    "        #rotaciones en el eje z \n",
    "        RZ180 = np.matrix([[-1,0,0],[0,-1,0],[0,0,1]])\n",
    "        RZ60 =  np.matrix([[0.5,-np.sqrt(3)/2,0],[-np.sqrt(3)/2,0.5,0],[0,0,1]])\n",
    "        RZ90 =   np.matrix([[0,-1,0],[1,0,0],[0,0,1]])\n",
    "        RZ120 =  np.matrix([[-0.5,-np.sqrt(3)/2,0],[np.sqrt(3)/2,-0.5,0],[0,0,1]])\n",
    "        #rotaciones en el eje y \n",
    "        RY180 = np.matrix([[-1,0,0],[0,1,0],[0,0,-1]])\n",
    "        RY60 =  np.matrix([[0.5,0,-np.sqrt(3)/2],[0,1,0],[-np.sqrt(3)/2,0,0.5]])\n",
    "        RY90 =   np.matrix([[0,0,1],[0,1,0],[-1,0,0]])\n",
    "        RY120 =  np.matrix([[-0.5,0,-np.sqrt(3)/2],[0,1,0],[-np.sqrt(3)/2,0,-0.5]])\n",
    "        #rotaciones en el x\n",
    "        RX180 = np.matrix([[1,0,0],[0,-1,0],[0,0,-1]])\n",
    "        RX60 =  np.matrix([[1,0,0],[0,0.5,-np.sqrt(3)/2],[0,np.sqrt(3)/2,0.5]])\n",
    "        RX90 =   np.matrix([[1,0,0],[0,0,1],[0,1,0]])\n",
    "        RX120 =  np.matrix([[1,0,0],[0,-0.5,-np.sqrt(3)/2],[0,np.sqrt(3)/2,-0.5]])  \n",
    "        \n",
    "        \n",
    "        self._G = G\n",
    "        self._YZ = YZ\n",
    "        self._XZ = XZ\n",
    "        self._XY = XY\n",
    "        self._inv =inv\n",
    "        self._RZ180 = RZ180\n",
    "        self._RZ60 = RZ60\n",
    "        self._RZ90  = RZ90\n",
    "        self._RZ120 = RZ120\n",
    "        self._RY180 = RY180\n",
    "        self._RY60 = RY60\n",
    "        self._RY90  = RY90\n",
    "        self._RY120 = RY120\n",
    "        self._RX180 = RX180\n",
    "        self._RX60 = RX60\n",
    "        self._RX90  = RX90\n",
    "        self._RX120 = RX120\n",
    "    @property\n",
    "    def reflexionYZ(self):\n",
    "        \"\"\"reflexión respecto al plano ZY\"\"\"\n",
    "        if np.all(self._G) == np.all(np.dot(self._YZ.transpose(),np.dot(self._G,self._YZ))):\n",
    "            print(\"el cristal presenta reflexión respecto al plano ZY\")\n",
    "        else:\n",
    "            print(\"el cristal NO presenta reflexión respecto al plano ZY\")\n",
    "     \n",
    "    @property\n",
    "    def reflexionXZ(self):\n",
    "        \"\"\"reflexión respecto al plano XZ\"\"\"\n",
    "        if np.all(self._G) == np.all(np.dot(self._XZ.transpose(),np.dot(self._G,self._XZ))):\n",
    "            print(\"el cristal presenta reflexión respecto al plano XZ\")\n",
    "        else:\n",
    "            print(\"el cristal NO presenta reflexión respecto al plano XZ\")\n",
    "    \n",
    "    @property\n",
    "    def reflexionXY(self):\n",
    "        \"\"\"reflexión respecto al plano XY\"\"\"\n",
    "        if np.all(self._G) == np.all(np.dot(self._XY.transpose(),np.dot(self._G,self._XY))):\n",
    "            print(\"el cristal presenta reflexión respecto al plano XY\")\n",
    "        else:\n",
    "            print(\"el cristal NO presenta reflexión respecto al plano XY\")\n",
    "    \n",
    "    @property\n",
    "    def inversion(self):\n",
    "        \"\"\"inverisión\"\"\"\n",
    "        if np.all(self._G) == np.all(np.dot(self._inv.transpose(),np.dot(self._G,self._inv))):\n",
    "            print(\"el cristal presenta simetría de inversión\")\n",
    "        else:\n",
    "            print(\"el cristal NO presenta simetría de inversión\")\n",
    "            \n",
    "    @property\n",
    "    def rotZ180(self):\n",
    "        \"\"\"inverisión\"\"\"\n",
    "        if np.all(self._G) == np.all(np.dot(self._RZ180.transpose(),np.dot(self._G,self._RZ180))):\n",
    "            print(\"el cristal es simétrico respecto a rotaciones de 180 en el eje z\")\n",
    "        else:\n",
    "            print(\"el cristal NO es simétrico respecto a rotaciones de 180 en el eje z\")\n",
    "                               \n",
    "    @property\n",
    "    def rotZ60(self):\n",
    "        \"\"\"inverisión\"\"\"\n",
    "        if np.all(self._G) == np.all(np.dot(self._RZ60.transpose(),np.dot(self._G,self._RZ60))):\n",
    "            print(\"el cristal es simétrico respecto a rotaciones de 60 en el eje z\")\n",
    "        else:\n",
    "            print(\"el cristal NO es simétrico respecto a rotaciones de 60 en el eje z\")              \n",
    "            \n",
    "    @property\n",
    "    def rotZ90(self):\n",
    "       \n",
    "        if np.all(self._G) == np.all(np.dot(self._RZ90.transpose(),np.dot(self._G,self._RZ90))):\n",
    "            print(\"el cristal es simétrico respecto a rotaciones de 90 en el eje z\")\n",
    "        else:\n",
    "            print(\"el cristal NO es simétrico respecto a rotaciones de 90 en el eje z\")     \n",
    "      \n",
    "    @property\n",
    "    def rotZ120(self):\n",
    "        \n",
    "        if np.all(self._G) == np.all(np.dot(self._RZ120.transpose(),np.dot(self._G,self._RZ120))):\n",
    "            print(\"el cristal es simétrico respecto a rotaciones de 120 en el eje z\")\n",
    "        else:\n",
    "            print(\"el cristal NO es simétrico respecto a rotaciones de 120 en el eje z\")     \n",
    "    \n",
    "    @property\n",
    "    def rotY180(self):\n",
    "        \n",
    "        if np.all(self._G) == np.all(np.dot(self._RY180.transpose(),np.dot(self._G,self._RY180))):\n",
    "            print(\"el cristal es simétrico respecto a rotaciones de 180 en el eje Y\")\n",
    "        else:\n",
    "            print(\"el cristal NO es simétrico respecto a rotaciones de 180 en el eje Y\") \n",
    "     \n",
    "    @property\n",
    "    def rotY60(self):\n",
    "       \n",
    "        if np.all(self._G) == np.all(np.dot(self._RY60.transpose(),np.dot(self._G,self._RY60))):\n",
    "            print(\"el cristal es simétrico respecto a rotaciones de 60 en el eje Y\")\n",
    "        else:\n",
    "            print(\"el cristal NO es simétrico respecto a rotaciones de 60 en el eje Y\")\n",
    "    \n",
    "    @property\n",
    "    def rotY90(self):\n",
    "       \n",
    "        if np.all(self._G) == np.all(np.dot(self._RY90.transpose(),np.dot(self._G,self._RY90))):\n",
    "            print(\"el cristal es simétrico respecto a rotaciones de 90 en el eje Y\")\n",
    "        else:\n",
    "            print(\"el cristal NO es simétrico respecto a rotaciones de 90 en el eje Y\")           \n",
    "      \n",
    "    @property\n",
    "    def rotY120(self):\n",
    "       \n",
    "        if np.all(self._G) == np.all(np.dot(self._RY120.transpose(),np.dot(self._G,self._RY120))):\n",
    "            print(\"el cristal es simétrico respecto a rotaciones de 120 en el eje Y\")\n",
    "        else:\n",
    "            print(\"el cristal NO es simétrico respecto a rotaciones de 120 en el eje Y\")    \n",
    "    \n",
    "    @property\n",
    "    def rotX180(self):\n",
    "       \n",
    "        if np.all(self._G) == np.all(np.dot(self._RX180.transpose(),np.dot(self._G,self._RX180))):\n",
    "            print(\"el cristal es simétrico respecto a rotaciones de 180 en el eje X\")\n",
    "        else:\n",
    "            print(\"el cristal NO es simétrico respecto a rotaciones de 180 en el eje X\")   \n",
    "            \n",
    "    @property\n",
    "    def rotX60(self):\n",
    "       \n",
    "        if np.all(self._G) == np.all(np.dot(self._RX60.transpose(),np.dot(self._G,self._RX60))):\n",
    "            print(\"el cristal es simétrico respecto a rotaciones de 60 en el eje X\")\n",
    "        else:\n",
    "            print(\"el cristal NO es simétrico respecto a rotaciones de 60 en el eje X\")   \n",
    "            \n",
    "    @property\n",
    "    def rotX90(self):\n",
    "       \n",
    "        if np.all(self._G) == np.all(np.dot(self._RX90.transpose(),np.dot(self._G,self._RX90))):\n",
    "            print(\"el cristal es simétrico respecto a rotaciones de 90 en el eje X\")\n",
    "        else:\n",
    "            print(\"el cristal NO es simétrico respecto a rotaciones de 90 en el eje X\")        \n",
    "            \n",
    "                   \n",
    "    @property\n",
    "    def rotX120(self):\n",
    "       \n",
    "        if np.all(self._G) == np.all(np.dot(self._RX120.transpose(),np.dot(self._G,self._RX120))):\n",
    "            print(\"el cristal es simétrico respecto a rotaciones de 120 en el eje X\")\n",
    "        else:\n",
    "            print(\"el cristal NO es simétrico respecto a rotaciones de 120 en el eje X\")            \n",
    "            \n"
   ]
  },
  {
   "cell_type": "code",
   "execution_count": 27,
   "metadata": {},
   "outputs": [],
   "source": [
    "r4=Simetrias(t1,t2,t3)"
   ]
  },
  {
   "cell_type": "code",
   "execution_count": 28,
   "metadata": {},
   "outputs": [
    {
     "name": "stdout",
     "output_type": "stream",
     "text": [
      "el cristal NO es simétrico respecto a rotaciones de 120 en el eje X\n"
     ]
    }
   ],
   "source": [
    "r4.rotX120"
   ]
  },
  {
   "cell_type": "code",
   "execution_count": 29,
   "metadata": {},
   "outputs": [],
   "source": [
    "X= np.zeros((3, 3))"
   ]
  },
  {
   "cell_type": "markdown",
   "metadata": {},
   "source": [
    "#  Estructura de fonones de cristal cúbico 2D monoatómico "
   ]
  },
  {
   "cell_type": "markdown",
   "metadata": {},
   "source": [
    "Clásicamente, las vibraciones pueden interpretarse debido a propagaciones de ondas elásticas, que van distorsionando nudos de la red. Cuánticamente, los osciladores están cuantizados, donde para el caso de un arreglo periódico y elástico de átomos que es excitado, se tomó la idea de tomar el movimiento ondulatiorio como el desplazamiento de una partícula llamada fonón.\n",
    "\n",
    "Los fonones son la descripción de un tipo especial de vibración en el arreglo de algún material en el cual se propaga una perturbación. Cuando un material vibra, la vibración puede ser descrita como la suma de ciertas vibraciones elementales llamadas modos normales de vibración.\n",
    "\n",
    "En el presente trabajo se presenta la estructura de bandas fonónicas asociada a una red cuadrada monoatómica, implementando el método de la matriz dinámica.\n"
   ]
  },
  {
   "cell_type": "code",
   "execution_count": 1,
   "metadata": {},
   "outputs": [],
   "source": [
    "import numpy as np \n",
    "import itertools\n",
    "import matplotlib.pyplot as plt\n",
    "from mpl_toolkits.mplot3d import Axes3D\n",
    "from scipy import linalg\n",
    "import  scipy.spatial as sc\n",
    "from scipy.spatial import Voronoi, voronoi_plot_2d\n",
    "import matplotlib.image as mpimg"
   ]
  },
  {
   "cell_type": "code",
   "execution_count": null,
   "metadata": {},
   "outputs": [],
   "source": []
  }
 ],
 "metadata": {
  "kernelspec": {
   "display_name": "Python 3",
   "language": "python",
   "name": "python3"
  },
  "language_info": {
   "codemirror_mode": {
    "name": "ipython",
    "version": 3
   },
   "file_extension": ".py",
   "mimetype": "text/x-python",
   "name": "python",
   "nbconvert_exporter": "python",
   "pygments_lexer": "ipython3",
   "version": "3.8.8"
  }
 },
 "nbformat": 4,
 "nbformat_minor": 2
}
