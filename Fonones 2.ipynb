{
 "cells": [
  {
   "cell_type": "markdown",
   "metadata": {},
   "source": [
    "# CRISTAL CÚBICO DIATÓMICO"
   ]
  },
  {
   "cell_type": "code",
   "execution_count": 4,
   "metadata": {},
   "outputs": [],
   "source": [
    "import numpy as np \n",
    "import itertools\n",
    "import matplotlib.pyplot as plt\n",
    "from mpl_toolkits.mplot3d import Axes3D\n",
    "from scipy import linalg\n",
    "import  scipy.spatial as sc\n",
    "from scipy.spatial import Voronoi, voronoi_plot_2d"
   ]
  },
  {
   "cell_type": "code",
   "execution_count": null,
   "metadata": {},
   "outputs": [],
   "source": []
  },
  {
   "cell_type": "code",
   "execution_count": 5,
   "metadata": {},
   "outputs": [],
   "source": [
    "a = 2.45 #parámetro de red\n",
    "c1= 1   #constante de primeros vecinos \n",
    "c2=0.5  #constante de segundos vecinos\n",
    "c3=0.25 #constante de terceros vecinos\n",
    "a1=np.array([1,0])\n",
    "a2=np.array([0,1])\n"
   ]
  },
  {
   "cell_type": "markdown",
   "metadata": {},
   "source": [
    "### vector de la base "
   ]
  },
  {
   "cell_type": "code",
   "execution_count": 6,
   "metadata": {},
   "outputs": [],
   "source": [
    "d1=np.array([0,0])\n",
    "d2=a*np.array([1/2,1/2])"
   ]
  },
  {
   "cell_type": "code",
   "execution_count": 8,
   "metadata": {},
   "outputs": [],
   "source": [
    "posi1=[]\n",
    "for i in range(-2,3):\n",
    "    for k in range(-2,3):\n",
    "        posi1 += [d1+i*(a1)+k*(a2)]"
   ]
  },
  {
   "cell_type": "code",
   "execution_count": 9,
   "metadata": {},
   "outputs": [],
   "source": [
    "posi2=[]\n",
    "for i in range(-2,3):\n",
    "    for k in range(-2,3):\n",
    "        posi2 += [d2+i*(a1)+k*(a2)]"
   ]
  },
  {
   "cell_type": "code",
   "execution_count": 22,
   "metadata": {},
   "outputs": [],
   "source": [
    "N1=np.concatenate((posi1,), axis=0) \n",
    "N2=np.concatenate((posi2,), axis=0) "
   ]
  },
  {
   "cell_type": "code",
   "execution_count": 31,
   "metadata": {},
   "outputs": [
    {
     "data": {
      "image/png": "[encoded data removed]",
      "text/plain": [
       "<Figure size 432x288 with 1 Axes>"
      ]
     },
     "metadata": {
      "needs_background": "light"
     },
     "output_type": "display_data"
    }
   ],
   "source": [
    "plt.plot(N1[:,0],N1[:,1], 'x', color='black'),plt.plot(N2[:,0],N2[:,1], 'o', color='blue');"
   ]
  },
  {
   "cell_type": "code",
   "execution_count": null,
   "metadata": {},
   "outputs": [],
   "source": [
    "norma=[]\n",
    "uno=[]\n",
    "dos=[]\n",
    "tres=[]\n",
    "idx1 = [3,2,0,1]\n",
    "idx2 = [3,1,0,2]\n",
    "idx3 = []\n",
    "for i in range(0,len(N)):\n",
    "    norma +=[np.sqrt(((N[i])[0]**2)+((N[i])[1]**2))]   #sacar norma de los vecinos \n",
    "    if np.sqrt(((N[i])[0]**2)+((N[i])[1]**2)) == 1.4142135623730951:    #primeros vecinos \n",
    "            uno += [N[i]]\n",
    "            primeros= np.concatenate((uno,), axis=0) \n",
    "    elif np.sqrt(((N[i])[0]**2)+((N[i])[1]**2)) == 1:   #segundos vecinos \n",
    "            dos += [N[i]]\n",
    "            segundos = np.concatenate((dos,), axis=0) \n",
    "    elif np.sqrt(())\n",
    "P=primeros[idx1]   #ponerlos en sentido contrario a las manecillas del reloj\n",
    "S=segundos[idx2]\n"
   ]
  }
 ],
 "metadata": {
  "kernelspec": {
   "display_name": "Python 2",
   "language": "python",
   "name": "python2"
  },
  "language_info": {
   "codemirror_mode": {
    "name": "ipython",
    "version": 2
   },
   "file_extension": ".py",
   "mimetype": "text/x-python",
   "name": "python",
   "nbconvert_exporter": "python",
   "pygments_lexer": "ipython2",
   "version": "2.7.15rc1"
  }
 },
 "nbformat": 4,
 "nbformat_minor": 2
}
