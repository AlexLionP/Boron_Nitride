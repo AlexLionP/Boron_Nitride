{
 "cells": [
  {
   "cell_type": "code",
   "execution_count": 2,
   "metadata": {},
   "outputs": [],
   "source": [
    "import numpy as np \n",
    "import itertools\n",
    "import matplotlib.pyplot as plt\n",
    "from mpl_toolkits.mplot3d import Axes3D\n",
    "from scipy import linalg\n",
    "import  scipy.spatial as sc\n",
    "from scipy.spatial import Voronoi, voronoi_plot_2d"
   ]
  },
  {
   "cell_type": "code",
   "execution_count": 3,
   "metadata": {},
   "outputs": [],
   "source": [
    "a=2.5043\n",
    "c=6.6562                                   #parámetros de red\n",
    "t1 = a*np.array([0.5,np.sqrt(3)/2,0])    \n",
    "t2 = a*np.array([-0.5,np.sqrt(3)/2,0 ])\n",
    "t3 = c*np.array([0,0,1])                  #vectores de traslación\n",
    "d1 = np.array([0,0,0])                    \n",
    "d2 =a*np.array([0,np.sqrt(3)/3,0])\n",
    "d3 =np.array([0,0,c/2])\n",
    "d4=np.array([0,a*(np.sqrt(3)/3),c/2])       #vectores de la base atómica"
   ]
  },
  {
   "cell_type": "code",
   "execution_count": 4,
   "metadata": {},
   "outputs": [],
   "source": [
    "def phononsbands(M1,M2,C,a,n):\n",
    "    W1 =[]\n",
    "    W2 =[]\n",
    "    Am =np.linspace(-np.pi/a,np.pi/a,num=n)\n",
    "    for i in range(n):\n",
    "           W1 += [np.sqrt(C*(1/M1+1/M2)+C*np.sqrt((1/M1+1/M2)**2-(4*((np.sin(Am[i]*a/2))**2)/(M1*M2))))]\n",
    "           W2 += [np.sqrt(C*(1/M1+1/M2)-C*np.sqrt((1/M1+1/M2)**2-(4*((np.sin(Am[i]*a/2))**2)/(M1*M2))))]\n",
    "           \n",
    "    return plt.plot(Am, W2, 'o'), plt.plot(Am, W1, 'o')\n",
    "          \n"
   ]
  },
  {
   "cell_type": "code",
   "execution_count": 5,
   "metadata": {},
   "outputs": [
    {
     "data": {
      "text/plain": [
       "([<matplotlib.lines.Line2D at 0x7ffb125a13d0>],\n",
       " [<matplotlib.lines.Line2D at 0x7ffb125a1510>])"
      ]
     },
     "execution_count": 5,
     "metadata": {},
     "output_type": "execute_result"
    },
    {
     "data": {
      "image/png": "[encoded data removed]",
      "text/plain": [
       "<Figure size 432x288 with 1 Axes>"
      ]
     },
     "metadata": {
      "needs_background": "light"
     },
     "output_type": "display_data"
    }
   ],
   "source": [
    "phononsbands(10,1,10,5,80)"
   ]
  },
  {
   "cell_type": "code",
   "execution_count": 6,
   "metadata": {},
   "outputs": [
    {
     "data": {
      "text/plain": [
       "1.2"
      ]
     },
     "execution_count": 6,
     "metadata": {},
     "output_type": "execute_result"
    }
   ],
   "source": [
    "2.4/2"
   ]
  },
  {
   "cell_type": "code",
   "execution_count": 7,
   "metadata": {},
   "outputs": [],
   "source": [
    "#q=np.array([2*np.pi/a,3*np.pi/a])"
   ]
  },
  {
   "cell_type": "code",
   "execution_count": 8,
   "metadata": {},
   "outputs": [],
   "source": [
    "#r=np.array([0,0])"
   ]
  },
  {
   "cell_type": "code",
   "execution_count": 9,
   "metadata": {},
   "outputs": [],
   "source": [
    "def Intensidad(a):\n",
    "    I=0\n",
    "    q=np.array([2*np.pi/a,2*np.pi/a])\n",
    "    #q=np.linspace(-np.pi/a,np.pi/a,num=n)\n",
    "    #for i in range(0,n):\n",
    "     #   I +=[((r[i])[0]*(q[i])[0])+((r[i])[1]*(q[i])[1])]\n",
    "    r=[1,2,3,4,5,6,7,8,9]\n",
    "    for i in range(0,len(r)):\n",
    "        #for k in range(n):\n",
    "            #r=np.array([i-1,k-1])\n",
    "        I = I+np.exp(1j*np.dot(q,r))\n",
    "        #re=sum(I)\n",
    "    return plt.plot(q, I, 'o')"
   ]
  },
  {
   "cell_type": "code",
   "execution_count": 10,
   "metadata": {},
   "outputs": [
    {
     "ename": "ValueError",
     "evalue": "shapes (2,) and (9,) not aligned: 2 (dim 0) != 9 (dim 0)",
     "output_type": "error",
     "traceback": [
      "\u001b[0;31m---------------------------------------------------------------------------\u001b[0m",
      "\u001b[0;31mValueError\u001b[0m                                Traceback (most recent call last)",
      "\u001b[0;32m<ipython-input-10-cdc785263ed9>\u001b[0m in \u001b[0;36m<module>\u001b[0;34m()\u001b[0m\n\u001b[0;32m----> 1\u001b[0;31m \u001b[0mIntensidad\u001b[0m\u001b[0;34m(\u001b[0m\u001b[0;36m5\u001b[0m\u001b[0;34m)\u001b[0m\u001b[0;34m\u001b[0m\u001b[0m\n\u001b[0m",
      "\u001b[0;32m<ipython-input-9-9a80ff82fed3>\u001b[0m in \u001b[0;36mIntensidad\u001b[0;34m(a)\u001b[0m\n\u001b[1;32m      9\u001b[0m         \u001b[0;31m#for k in range(n):\u001b[0m\u001b[0;34m\u001b[0m\u001b[0;34m\u001b[0m\u001b[0m\n\u001b[1;32m     10\u001b[0m             \u001b[0;31m#r=np.array([i-1,k-1])\u001b[0m\u001b[0;34m\u001b[0m\u001b[0;34m\u001b[0m\u001b[0m\n\u001b[0;32m---> 11\u001b[0;31m         \u001b[0mI\u001b[0m \u001b[0;34m=\u001b[0m \u001b[0mI\u001b[0m\u001b[0;34m+\u001b[0m\u001b[0mnp\u001b[0m\u001b[0;34m.\u001b[0m\u001b[0mexp\u001b[0m\u001b[0;34m(\u001b[0m\u001b[0;36m1j\u001b[0m\u001b[0;34m*\u001b[0m\u001b[0mnp\u001b[0m\u001b[0;34m.\u001b[0m\u001b[0mdot\u001b[0m\u001b[0;34m(\u001b[0m\u001b[0mq\u001b[0m\u001b[0;34m,\u001b[0m\u001b[0mr\u001b[0m\u001b[0;34m)\u001b[0m\u001b[0;34m)\u001b[0m\u001b[0;34m\u001b[0m\u001b[0m\n\u001b[0m\u001b[1;32m     12\u001b[0m         \u001b[0;31m#re=sum(I)\u001b[0m\u001b[0;34m\u001b[0m\u001b[0;34m\u001b[0m\u001b[0m\n\u001b[1;32m     13\u001b[0m     \u001b[0;32mreturn\u001b[0m \u001b[0mplt\u001b[0m\u001b[0;34m.\u001b[0m\u001b[0mplot\u001b[0m\u001b[0;34m(\u001b[0m\u001b[0mq\u001b[0m\u001b[0;34m,\u001b[0m \u001b[0mI\u001b[0m\u001b[0;34m,\u001b[0m \u001b[0;34m'o'\u001b[0m\u001b[0;34m)\u001b[0m\u001b[0;34m\u001b[0m\u001b[0m\n",
      "\u001b[0;31mValueError\u001b[0m: shapes (2,) and (9,) not aligned: 2 (dim 0) != 9 (dim 0)"
     ]
    }
   ],
   "source": [
    "Intensidad(5)"
   ]
  },
  {
   "cell_type": "code",
   "execution_count": 14,
   "metadata": {},
   "outputs": [],
   "source": [
    "a=2.5"
   ]
  },
  {
   "cell_type": "code",
   "execution_count": 15,
   "metadata": {},
   "outputs": [],
   "source": [
    "r1=a*np.array([1,0])\n",
    "r2=a*np.array([2,0])\n",
    "r3=a*np.array([3,0])\n",
    "r4=a*np.array([1,1])\n",
    "r5=a*np.array([2,1])\n",
    "r6=a*np.array([3,1])\n",
    "r7=a*np.array([1,2])\n",
    "r8=a*np.array([2,3])\n",
    "r9=a*np.array([2,2])"
   ]
  },
  {
   "cell_type": "code",
   "execution_count": 16,
   "metadata": {},
   "outputs": [],
   "source": [
    "def Intensidad(qx,qy):\n",
    "    q=np.array([qx/a,qy/a])\n",
    "    I=0\n",
    "    r=[r1,r2,r3,r4,r5,r6,r7,r8,r9]\n",
    "    for i in range(0, len(r)):\n",
    "        I = I+np.exp(1j*np.dot(q,r[i]))\n",
    "    return plt.plot(I, 'o')"
   ]
  },
  {
   "cell_type": "code",
   "execution_count": 17,
   "metadata": {},
   "outputs": [
    {
     "name": "stderr",
     "output_type": "stream",
     "text": [
      "/home/alejandro/myenv/local/lib/python2.7/site-packages/numpy/core/numeric.py:538: ComplexWarning: Casting complex values to real discards the imaginary part\n",
      "  return array(a, dtype, copy=False, order=order)\n"
     ]
    },
    {
     "data": {
      "text/plain": [
       "[<matplotlib.lines.Line2D at 0x7ffb12477c50>]"
      ]
     },
     "execution_count": 17,
     "metadata": {},
     "output_type": "execute_result"
    },
    {
     "data": {
      "image/png": "[encoded data removed]",
      "text/plain": [
       "<Figure size 432x288 with 1 Axes>"
      ]
     },
     "metadata": {
      "needs_background": "light"
     },
     "output_type": "display_data"
    }
   ],
   "source": [
    "Intensidad(5*np.pi,5*np.pi)"
   ]
  },
  {
   "cell_type": "code",
   "execution_count": null,
   "metadata": {},
   "outputs": [],
   "source": []
  },
  {
   "cell_type": "code",
   "execution_count": null,
   "metadata": {},
   "outputs": [],
   "source": []
  },
  {
   "cell_type": "code",
   "execution_count": null,
   "metadata": {},
   "outputs": [],
   "source": []
  }
 ],
 "metadata": {
  "kernelspec": {
   "display_name": "Python 2",
   "language": "python",
   "name": "python2"
  },
  "language_info": {
   "codemirror_mode": {
    "name": "ipython",
    "version": 2
   },
   "file_extension": ".py",
   "mimetype": "text/x-python",
   "name": "python",
   "nbconvert_exporter": "python",
   "pygments_lexer": "ipython2",
   "version": "2.7.15rc1"
  }
 },
 "nbformat": 4,
 "nbformat_minor": 2
}
