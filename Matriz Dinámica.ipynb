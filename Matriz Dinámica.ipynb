{
 "cells": [
  {
   "cell_type": "code",
   "execution_count": 118,
   "metadata": {},
   "outputs": [],
   "source": [
    "import numpy as np \n",
    "import itertools\n",
    "import matplotlib.pyplot as plt\n",
    "from mpl_toolkits.mplot3d import Axes3D\n",
    "from scipy import linalg\n",
    "import  scipy.spatial as sc"
   ]
  },
  {
   "cell_type": "markdown",
   "metadata": {},
   "source": [
    "Base"
   ]
  },
  {
   "cell_type": "code",
   "execution_count": 119,
   "metadata": {},
   "outputs": [],
   "source": [
    "a = 0.05"
   ]
  },
  {
   "cell_type": "code",
   "execution_count": 227,
   "metadata": {},
   "outputs": [],
   "source": [
    "s1 = a*np.array([0,0])\n",
    "s2 = a*np.array([0.5,0.5])\n",
    "x = np.array([1,0])\n",
    "y = np.array([0,1])"
   ]
  },
  {
   "cell_type": "markdown",
   "metadata": {},
   "source": [
    "Red"
   ]
  },
  {
   "cell_type": "code",
   "execution_count": 228,
   "metadata": {},
   "outputs": [],
   "source": [
    "a1=a*np.array([1,0])\n",
    "a2=a*np.array([0,1])"
   ]
  },
  {
   "cell_type": "markdown",
   "metadata": {},
   "source": [
    "1ros vecinos de la red monoatomica y 2dos vecinos de la red diatomica"
   ]
  },
  {
   "cell_type": "code",
   "execution_count": 229,
   "metadata": {},
   "outputs": [],
   "source": [
    "\n",
    "delta11 = a1\n",
    "delta12 = a2\n",
    "delta13 = -a1\n",
    "delta14 = -a2"
   ]
  },
  {
   "cell_type": "markdown",
   "metadata": {},
   "source": [
    "2dos vecinos de la red monoatomica y 3ros vecinos de la red diatomica"
   ]
  },
  {
   "cell_type": "code",
   "execution_count": 230,
   "metadata": {},
   "outputs": [],
   "source": [
    "delta21 = a1+a2\n",
    "delta22 = -a1+a2\n",
    "delta23 = -a1-a2\n",
    "delta24 = a1-a2\n",
    "del_uni21 = (a1+a2)/np.sqrt(2*a)\n",
    "del_uni22 = (-a1+a2)/np.sqrt(2*a)\n",
    "del_uni23 = (-a1-a2)/np.sqrt(2*a)\n",
    "del_uni24 = (a1-a2)/np.sqrt(2*a)"
   ]
  },
  {
   "cell_type": "markdown",
   "metadata": {},
   "source": [
    "1ros vecinos de la red diatomica"
   ]
  },
  {
   "cell_type": "code",
   "execution_count": null,
   "metadata": {},
   "outputs": [],
   "source": [
    "delta21 = a1+a2\n",
    "delta22 = -a1+a2\n",
    "delta23 = -a1-a2\n",
    "delta24 = a1-a2\n",
    "del_uni21 = (a1+a2)/np.sqrt(2*a)\n",
    "del_uni22 = (-a1+a2)/np.sqrt(2*a)\n",
    "del_uni23 = (-a1-a2)/np.sqrt(2*a)\n",
    "del_uni24 = (a1-a2)/np.sqrt(2*a)"
   ]
  },
  {
   "cell_type": "code",
   "execution_count": 233,
   "metadata": {},
   "outputs": [],
   "source": [
    "def D(beta1,beta2,qx,qy):\n",
    "    q=np.array([qx/a,qy/a])\n",
    "    Dxx=0\n",
    "    D1xx=0\n",
    "    D2xx=0\n",
    "    Dxy=0\n",
    "    #D=np.zeros([2,2])\n",
    "    delta1=[delta11,delta12,delta13,delta14]\n",
    "    delta2=[delta21,delta22,delta23,delta24]\n",
    "    for n in range(0, len(delta1)): \n",
    "        D1xx = D1xx+(beta1*(np.exp(-1j*np.dot(q,s1))-np.exp(-1j*np.dot(q,delta1[n])))*np.dot(delta1[n],x))\n",
    "        #D1xx = -np.exp(-1j*np.dot(q,delta1[n]))*np.dot(delta1[n],x)*beta1\n",
    "    for n in range(0, len(delta2)):\n",
    "        D2xx = D2xx+(beta2*(np.exp(-1j*np.dot(q,s1))-np.exp(-1j*np.dot(q,delta2[n])))*np.dot(delta2[n]/(a*np.sqrt(2)),x))\n",
    "        #D2xx = -np.exp(-1j*np.dot(q,delta2[n]))*np.dot(delta2[n]/np.sqrt(2*a),x)*beta2\n",
    "    Dxx=D1xx+D2xx\n",
    "    #return Dxx\n",
    "    for n in range(0, len(delta2)): \n",
    "        Dxy =Dxy+(beta2/2*(-np.exp(-1j*np.dot(q,delta2[n])))*(np.dot(delta2[n]/(a*np.sqrt(2)),x))*np.dot(delta2[n]/(a*np.sqrt(2)),y))\n",
    "    #return Dxy\n",
    "    return ([Dxx,Dxy],[Dxy,Dxx]) \n",
    "    "
   ]
  },
  {
   "cell_type": "code",
   "execution_count": 234,
   "metadata": {},
   "outputs": [
    {
     "data": {
      "text/plain": [
       "([-3.341359545027237e-16j, 0j], [0j, -3.341359545027237e-16j])"
      ]
     },
     "execution_count": 234,
     "metadata": {},
     "output_type": "execute_result"
    }
   ],
   "source": [
    "D(1,1,np.pi,np.pi)"
   ]
  },
  {
   "cell_type": "code",
   "execution_count": null,
   "metadata": {},
   "outputs": [],
   "source": []
  },
  {
   "cell_type": "code",
   "execution_count": null,
   "metadata": {},
   "outputs": [],
   "source": []
  },
  {
   "cell_type": "markdown",
   "metadata": {},
   "source": [
    "borrador"
   ]
  },
  {
   "cell_type": "code",
   "execution_count": 9,
   "metadata": {},
   "outputs": [],
   "source": [
    "def Dxx(beta1,beta2,qx,qy):\n",
    "    q=np.array([qx,qy])\n",
    "    Dxx=0\n",
    "    D1xx=0\n",
    "    D2xx=0\n",
    "    delta1=[delta11,delta12,delta13,delta14]\n",
    "    delta2=[delta21,delta22,delta23,delta24]\n",
    "    for n in range(1, len(delta1)): \n",
    "        D1xx = D1xx + (beta1*(np.exp(-1j*np.dot(q,s1))-np.exp(-1j*np.dot(q,delta1[n])))*np.dot(delta1[n],x))\n",
    "    for n in range(1, len(delta2)): \n",
    "        D2xx = D2xx + (beta2*(np.exp(-1j*np.dot(q,s1))-np.exp(-1j*np.dot(q,delta2[n])))*np.dot(delta2[n]//np.sqrt(2*a),x))\n",
    "    Dxx=D1xx+D2xx\n",
    "    return Dxx\n",
    "   # Dxy=0\n",
    "    #for n in range(1, len(delta2)): \n",
    "     #   Dxy = Dxy + (-beta2*(-np.exp(-1j*np.dot(q,delta2[n])))*np.dot(delta2[n]//np.sqrt(2*a),x))\n",
    "    #return Dxy"
   ]
  },
  {
   "cell_type": "code",
   "execution_count": 10,
   "metadata": {},
   "outputs": [],
   "source": [
    "def Dxy(beta2,qx,qy):\n",
    "    q=np.array([qx,qy])\n",
    "    Dxy=0\n",
    "    delta2=[delta21,delta22,delta23,delta24]\n",
    "    for n in range(1, len(delta2)): \n",
    "        Dxy = Dxy + (-beta2*(-np.exp(-1j*np.dot(q,delta2[n])))*np.dot(delta2[n]//np.sqrt(2*a),x))\n",
    "    return Dxy"
   ]
  }
 ],
 "metadata": {
  "kernelspec": {
   "display_name": "Python 2",
   "language": "python",
   "name": "python2"
  },
  "language_info": {
   "codemirror_mode": {
    "name": "ipython",
    "version": 2
   },
   "file_extension": ".py",
   "mimetype": "text/x-python",
   "name": "python",
   "nbconvert_exporter": "python",
   "pygments_lexer": "ipython2",
   "version": "2.7.15rc1"
  }
 },
 "nbformat": 4,
 "nbformat_minor": 2
}
